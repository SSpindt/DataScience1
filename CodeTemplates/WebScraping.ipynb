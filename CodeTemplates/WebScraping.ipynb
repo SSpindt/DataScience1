{
 "cells": [
  {
   "cell_type": "code",
   "execution_count": 2,
   "id": "10be09a9",
   "metadata": {},
   "outputs": [],
   "source": [
    "from bs4 import BeautifulSoup\n",
    "import requests"
   ]
  },
  {
   "cell_type": "code",
   "execution_count": 3,
   "id": "fb1e286b",
   "metadata": {},
   "outputs": [],
   "source": [
    "url = \"https://en.wikipedia.org/wiki/Pizza_farm\""
   ]
  },
  {
   "cell_type": "code",
   "execution_count": 4,
   "id": "7f9da038",
   "metadata": {},
   "outputs": [],
   "source": [
    "# HTTP GET REQUEST\n",
    "response = requests.get(url)"
   ]
  },
  {
   "cell_type": "code",
   "execution_count": 5,
   "id": "58399572",
   "metadata": {},
   "outputs": [
    {
     "data": {
      "text/plain": [
       "<Response [200]>"
      ]
     },
     "execution_count": 5,
     "metadata": {},
     "output_type": "execute_result"
    }
   ],
   "source": [
    "# Should see a 200 status code :D\n",
    "response"
   ]
  },
  {
   "cell_type": "code",
   "execution_count": 6,
   "id": "f95a4fd5",
   "metadata": {},
   "outputs": [],
   "source": [
    "# Get the HTML of the web page in question\n",
    "soup = BeautifulSoup(response.text, 'html.parser')"
   ]
  },
  {
   "cell_type": "code",
   "execution_count": 8,
   "id": "49c3d8e5",
   "metadata": {},
   "outputs": [],
   "source": [
    "# Get a list of all the anchor tags (hyperlinks) in the article\n",
    "hyperlinks = soup.find_all('a')\n",
    "len(hyperlinks)"
   ]
  }
 ],
 "metadata": {
  "kernelspec": {
   "display_name": "Python 3 (ipykernel)",
   "language": "python",
   "name": "python3"
  },
  "language_info": {
   "codemirror_mode": {
    "name": "ipython",
    "version": 3
   },
   "file_extension": ".py",
   "mimetype": "text/x-python",
   "name": "python",
   "nbconvert_exporter": "python",
   "pygments_lexer": "ipython3",
   "version": "3.9.13"
  }
 },
 "nbformat": 4,
 "nbformat_minor": 5
}
