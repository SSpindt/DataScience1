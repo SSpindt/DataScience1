{
 "cells": [
  {
   "cell_type": "code",
   "execution_count": 2,
   "id": "8e2a3488",
   "metadata": {},
   "outputs": [],
   "source": [
    "import pandas as pd\n",
    "import random"
   ]
  },
  {
   "cell_type": "code",
   "execution_count": 3,
   "id": "c4470c1f",
   "metadata": {},
   "outputs": [],
   "source": [
    "# Challenge 1\n",
    "df = pd.read_csv(\"pirates.csv\") # This requires the csv file to be in the same folder as this Jupyter notebook."
   ]
  },
  {
   "cell_type": "code",
   "execution_count": 4,
   "id": "88d9e162",
   "metadata": {},
   "outputs": [
    {
     "data": {
      "text/html": [
       "<div>\n",
       "<style scoped>\n",
       "    .dataframe tbody tr th:only-of-type {\n",
       "        vertical-align: middle;\n",
       "    }\n",
       "\n",
       "    .dataframe tbody tr th {\n",
       "        vertical-align: top;\n",
       "    }\n",
       "\n",
       "    .dataframe thead th {\n",
       "        text-align: right;\n",
       "    }\n",
       "</style>\n",
       "<table border=\"1\" class=\"dataframe\">\n",
       "  <thead>\n",
       "    <tr style=\"text-align: right;\">\n",
       "      <th></th>\n",
       "      <th>id</th>\n",
       "      <th>sex</th>\n",
       "      <th>age</th>\n",
       "      <th>height</th>\n",
       "      <th>weight</th>\n",
       "      <th>headband</th>\n",
       "      <th>college</th>\n",
       "      <th>tattoos</th>\n",
       "      <th>tchests</th>\n",
       "      <th>parrots</th>\n",
       "      <th>favorite.pirate</th>\n",
       "      <th>sword.type</th>\n",
       "      <th>eyepatch</th>\n",
       "      <th>sword.time</th>\n",
       "      <th>beard.length</th>\n",
       "      <th>fav.pixar</th>\n",
       "      <th>grogg</th>\n",
       "    </tr>\n",
       "  </thead>\n",
       "  <tbody>\n",
       "    <tr>\n",
       "      <th>0</th>\n",
       "      <td>1</td>\n",
       "      <td>male</td>\n",
       "      <td>28.0</td>\n",
       "      <td>173.11</td>\n",
       "      <td>70.5</td>\n",
       "      <td>yes</td>\n",
       "      <td>JSSFP</td>\n",
       "      <td>9</td>\n",
       "      <td>0</td>\n",
       "      <td>0</td>\n",
       "      <td>Jack Sparrow</td>\n",
       "      <td>cutlass</td>\n",
       "      <td>1</td>\n",
       "      <td>0.58</td>\n",
       "      <td>16</td>\n",
       "      <td>Monsters, Inc.</td>\n",
       "      <td>11</td>\n",
       "    </tr>\n",
       "    <tr>\n",
       "      <th>1</th>\n",
       "      <td>2</td>\n",
       "      <td>male</td>\n",
       "      <td>31.0</td>\n",
       "      <td>209.25</td>\n",
       "      <td>105.6</td>\n",
       "      <td>yes</td>\n",
       "      <td>JSSFP</td>\n",
       "      <td>9</td>\n",
       "      <td>11</td>\n",
       "      <td>0</td>\n",
       "      <td>Jack Sparrow</td>\n",
       "      <td>cutlass</td>\n",
       "      <td>0</td>\n",
       "      <td>1.11</td>\n",
       "      <td>21</td>\n",
       "      <td>WALL-E</td>\n",
       "      <td>9</td>\n",
       "    </tr>\n",
       "    <tr>\n",
       "      <th>2</th>\n",
       "      <td>3</td>\n",
       "      <td>male</td>\n",
       "      <td>26.0</td>\n",
       "      <td>169.95</td>\n",
       "      <td>77.1</td>\n",
       "      <td>yes</td>\n",
       "      <td>CCCC</td>\n",
       "      <td>10</td>\n",
       "      <td>10</td>\n",
       "      <td>1</td>\n",
       "      <td>Jack Sparrow</td>\n",
       "      <td>cutlass</td>\n",
       "      <td>1</td>\n",
       "      <td>1.44</td>\n",
       "      <td>19</td>\n",
       "      <td>Inside Out</td>\n",
       "      <td>7</td>\n",
       "    </tr>\n",
       "    <tr>\n",
       "      <th>3</th>\n",
       "      <td>4</td>\n",
       "      <td>female</td>\n",
       "      <td>31.0</td>\n",
       "      <td>144.29</td>\n",
       "      <td>58.5</td>\n",
       "      <td>no</td>\n",
       "      <td>JSSFP</td>\n",
       "      <td>2</td>\n",
       "      <td>0</td>\n",
       "      <td>2</td>\n",
       "      <td>Jack Sparrow</td>\n",
       "      <td>scimitar</td>\n",
       "      <td>1</td>\n",
       "      <td>36.11</td>\n",
       "      <td>2</td>\n",
       "      <td>Inside Out</td>\n",
       "      <td>9</td>\n",
       "    </tr>\n",
       "    <tr>\n",
       "      <th>4</th>\n",
       "      <td>5</td>\n",
       "      <td>female</td>\n",
       "      <td>41.0</td>\n",
       "      <td>157.85</td>\n",
       "      <td>58.4</td>\n",
       "      <td>yes</td>\n",
       "      <td>JSSFP</td>\n",
       "      <td>9</td>\n",
       "      <td>6</td>\n",
       "      <td>4</td>\n",
       "      <td>Hook</td>\n",
       "      <td>cutlass</td>\n",
       "      <td>1</td>\n",
       "      <td>0.11</td>\n",
       "      <td>0</td>\n",
       "      <td>Inside Out</td>\n",
       "      <td>14</td>\n",
       "    </tr>\n",
       "  </tbody>\n",
       "</table>\n",
       "</div>"
      ],
      "text/plain": [
       "   id     sex   age  height  weight headband college  tattoos  tchests  \\\n",
       "0   1    male  28.0  173.11    70.5      yes   JSSFP        9        0   \n",
       "1   2    male  31.0  209.25   105.6      yes   JSSFP        9       11   \n",
       "2   3    male  26.0  169.95    77.1      yes    CCCC       10       10   \n",
       "3   4  female  31.0  144.29    58.5       no   JSSFP        2        0   \n",
       "4   5  female  41.0  157.85    58.4      yes   JSSFP        9        6   \n",
       "\n",
       "  parrots favorite.pirate sword.type  eyepatch  sword.time  beard.length  \\\n",
       "0       0    Jack Sparrow    cutlass         1        0.58            16   \n",
       "1       0    Jack Sparrow    cutlass         0        1.11            21   \n",
       "2       1    Jack Sparrow    cutlass         1        1.44            19   \n",
       "3       2    Jack Sparrow   scimitar         1       36.11             2   \n",
       "4       4            Hook    cutlass         1        0.11             0   \n",
       "\n",
       "        fav.pixar  grogg  \n",
       "0  Monsters, Inc.     11  \n",
       "1          WALL-E      9  \n",
       "2      Inside Out      7  \n",
       "3      Inside Out      9  \n",
       "4      Inside Out     14  "
      ]
     },
     "execution_count": 4,
     "metadata": {},
     "output_type": "execute_result"
    }
   ],
   "source": [
    "# Challlenge 2 - Part 1 & 2\n",
    "#df.info()\n",
    "df.head()"
   ]
  },
  {
   "cell_type": "code",
   "execution_count": 5,
   "id": "b3070fda",
   "metadata": {},
   "outputs": [
    {
     "name": "stdout",
     "output_type": "stream",
     "text": [
      "34\n",
      "age\n",
      "1000\n",
      "headband\n",
      "635\n",
      "favorite.pirate\n",
      "137\n",
      "sword.time\n"
     ]
    }
   ],
   "source": [
    "# Challenge 2 - Part 3\n",
    "for column in df.columns:\n",
    "    for row in range(len(df[\"id\"])):\n",
    "        if pd.isna(df.loc[row, column]):\n",
    "            print(row + 1)\n",
    "            print(column)"
   ]
  },
  {
   "cell_type": "code",
   "execution_count": 6,
   "id": "2fa6fb63",
   "metadata": {},
   "outputs": [],
   "source": [
    "# Challenge 3\n",
    "# Technique 1\n",
    "# This drops all rows that contain a null value\n",
    "\n",
    "df.dropna(inplace=True)\n",
    "df.reset_index(inplace=True)"
   ]
  },
  {
   "cell_type": "code",
   "execution_count": 7,
   "id": "d1e94e3b",
   "metadata": {},
   "outputs": [],
   "source": [
    "# Challenge 3\n",
    "# Technique 2\n",
    "# Drops just the age row that features a null\n",
    "\n",
    "# df.drop(33, inplace=True)"
   ]
  },
  {
   "cell_type": "code",
   "execution_count": 8,
   "id": "bcebcfca",
   "metadata": {},
   "outputs": [],
   "source": [
    "# Challenge 3\n",
    "# Technique 3\n",
    "# Reassigns the missing value in age to the mean of ages\n",
    "\n",
    "# df.loc[33, \"age\"] = df[\"age\"].mean()"
   ]
  },
  {
   "cell_type": "code",
   "execution_count": 9,
   "id": "e8b73f3d",
   "metadata": {},
   "outputs": [],
   "source": [
    "# Challenge 3\n",
    "# Technique 4\n",
    "# Reassigns the missing value in favorite.pirate to the mode\n",
    "\n",
    "# df.loc[634, \"favorite.pirate\"] = df[\"favorite.pirate\"].mode()[0]"
   ]
  },
  {
   "cell_type": "code",
   "execution_count": 10,
   "id": "f7809459",
   "metadata": {},
   "outputs": [],
   "source": [
    "# Challenge 3\n",
    "# Technique 5\n",
    "# Assigns the missing age value to a random integer in the range of the smallest age in the dataset and the largest age in dataset\n",
    "# df.loc[33, \"age\"] = random.randint(df[\"age\"].min(), df[\"age\"].max())"
   ]
  },
  {
   "cell_type": "code",
   "execution_count": 11,
   "id": "8908bdd3",
   "metadata": {},
   "outputs": [
    {
     "data": {
      "text/plain": [
       "array(['male', 'female', 'other'], dtype=object)"
      ]
     },
     "execution_count": 11,
     "metadata": {},
     "output_type": "execute_result"
    }
   ],
   "source": [
    "# Challenge 4 - Part 1\n",
    "df[\"sex\"].unique()"
   ]
  },
  {
   "cell_type": "code",
   "execution_count": 12,
   "id": "8ce324c8",
   "metadata": {},
   "outputs": [],
   "source": [
    "# Challenge 4 - Part 2\n",
    "avgAge = df[\"age\"].mean() # Average age of ALL pirates\n",
    "avgFemale = df[\"age\"][df[\"sex\"] == \"female\"].mean() # Average age of just female pirates"
   ]
  },
  {
   "cell_type": "code",
   "execution_count": 13,
   "id": "e28b20e6",
   "metadata": {},
   "outputs": [],
   "source": [
    "# Challenge 4 - Part 3\n",
    "# Technique 1\n",
    "\n",
    "# df[\"weight_lb\"] = df[\"weight\"]*2.2\n",
    "# percent = (df[\"weight_lb\"] < 100).mean() * 100 "
   ]
  },
  {
   "cell_type": "code",
   "execution_count": 14,
   "id": "d2c5a126",
   "metadata": {},
   "outputs": [],
   "source": [
    "# Challenge 4 - Part 3\n",
    "# Technique 2\n",
    "\n",
    "count = 0\n",
    "for i in df[\"weight\"]:\n",
    "    if i < 45.3592: # 45.3592 is the kg equivalent of 100 pounds\n",
    "        count += 1\n",
    "\n",
    "percent = count/len(df[\"weight\"]) * 100"
   ]
  },
  {
   "cell_type": "code",
   "execution_count": 15,
   "id": "b0d7f6dd",
   "metadata": {},
   "outputs": [
    {
     "name": "stdout",
     "output_type": "stream",
     "text": [
      "37\n",
      "[37]\n"
     ]
    }
   ],
   "source": [
    "# Challenge 5 - Part 1\n",
    "# Step 1 - Find smallest number using min\n",
    "# Step 2 - Find index value associated with that min using idxMin()\n",
    "# Step 3 - Add one to get ID\n",
    "\n",
    "idx = df[\"height\"].idxmin()\n",
    "print(idx)\n",
    "\n",
    "min = df[\"height\"].min()\n",
    "idx = df.index[df['height'] == 129.83].tolist()\n",
    "print(idx)"
   ]
  },
  {
   "cell_type": "code",
   "execution_count": 16,
   "id": "2ce05954",
   "metadata": {},
   "outputs": [
    {
     "ename": "SyntaxError",
     "evalue": "invalid syntax (1691780924.py, line 5)",
     "output_type": "error",
     "traceback": [
      "\u001b[1;36m  File \u001b[1;32m\"C:\\Users\\sspindt\\AppData\\Local\\Temp\\ipykernel_15152\\1691780924.py\"\u001b[1;36m, line \u001b[1;32m5\u001b[0m\n\u001b[1;33m    =print(idx)\u001b[0m\n\u001b[1;37m    ^\u001b[0m\n\u001b[1;31mSyntaxError\u001b[0m\u001b[1;31m:\u001b[0m invalid syntax\n"
     ]
    }
   ],
   "source": [
    "# Challenge 5 - Part 2\n",
    "# Step 1 - Use idxMax\n",
    "\n",
    "idx = df[\"weight\"].idxmax()\n",
    "=print(idx)"
   ]
  },
  {
   "cell_type": "code",
   "execution_count": 17,
   "id": "ce6a900c",
   "metadata": {},
   "outputs": [
    {
     "data": {
      "text/plain": [
       "'Inside Out'"
      ]
     },
     "execution_count": 17,
     "metadata": {},
     "output_type": "execute_result"
    }
   ],
   "source": [
    "# Challenge 5 - Part 3\n",
    "# Step 1 - Mode of movie column\n",
    "\n",
    "df[\"fav.pixar\"].mode()[0]"
   ]
  },
  {
   "cell_type": "code",
   "execution_count": 18,
   "id": "8c680f72",
   "metadata": {},
   "outputs": [
    {
     "data": {
      "text/plain": [
       "1.0"
      ]
     },
     "execution_count": 18,
     "metadata": {},
     "output_type": "execute_result"
    }
   ],
   "source": [
    "# Challenge 6 - Part 1\n",
    "# Step 1 - Calculate mean of eyepatches using mean()\n",
    "# Step 2 - Calculate median of eyepatches using median()\n",
    "\n",
    "df[\"eyepatch\"].mean()\n",
    "df[\"eyepatch\"].median()"
   ]
  },
  {
   "cell_type": "code",
   "execution_count": 19,
   "id": "27c64e7e",
   "metadata": {},
   "outputs": [
    {
     "data": {
      "text/plain": [
       "2.0"
      ]
     },
     "execution_count": 19,
     "metadata": {},
     "output_type": "execute_result"
    }
   ],
   "source": [
    "# Challenge 6 - Part 2\n",
    "# Step 1 - Cast all parrot values to int\n",
    "# Step 2 - Calculate mean of eyepatches using mean()\n",
    "# Step 3 - Calculate median of eyepatches using median()\n",
    "\n",
    "df.loc[35, \"parrots\"] = 1\n",
    "idx = 0\n",
    "for i in df[\"parrots\"]:\n",
    "    df.loc[idx, \"parrots\"] = int(i)\n",
    "    idx = idx + 1\n",
    "\n",
    "df[\"parrots\"].mean()\n",
    "df[\"parrots\"].median()"
   ]
  },
  {
   "cell_type": "code",
   "execution_count": 28,
   "id": "7f691f7f",
   "metadata": {},
   "outputs": [
    {
     "name": "stdout",
     "output_type": "stream",
     "text": [
      "<class 'pandas.core.frame.DataFrame'>\n",
      "RangeIndex: 997 entries, 0 to 996\n",
      "Data columns (total 17 columns):\n",
      " #   Column           Non-Null Count  Dtype  \n",
      "---  ------           --------------  -----  \n",
      " 0   id               997 non-null    int64  \n",
      " 1   sex              997 non-null    object \n",
      " 2   age              997 non-null    float64\n",
      " 3   height           997 non-null    float64\n",
      " 4   weight           997 non-null    float64\n",
      " 5   headband         997 non-null    object \n",
      " 6   college          997 non-null    object \n",
      " 7   tattoos          997 non-null    int64  \n",
      " 8   tchests          997 non-null    int64  \n",
      " 9   parrots          997 non-null    object \n",
      " 10  favorite.pirate  997 non-null    object \n",
      " 11  sword.type       997 non-null    object \n",
      " 12  eyepatch         997 non-null    int64  \n",
      " 13  sword.time       997 non-null    float64\n",
      " 14  beard.length     997 non-null    int64  \n",
      " 15  fav.pixar        997 non-null    object \n",
      " 16  grogg            997 non-null    int64  \n",
      "dtypes: float64(4), int64(6), object(7)\n",
      "memory usage: 132.5+ KB\n"
     ]
    }
   ],
   "source": [
    "# Challenge 7\n",
    "newRow = pd.read_csv(\"PirateNewRow.csv\")\n",
    "combined_df = pd.concat([df, newRow], ignore_index=True)\n",
    "combined_df.drop([\"index\"], axis=1, inplace=True)\n",
    "combined_df.info()"
   ]
  },
  {
   "cell_type": "code",
   "execution_count": 27,
   "id": "076009e1",
   "metadata": {},
   "outputs": [],
   "source": [
    "# Challenge 8\n",
    "newCol = pd.read_csv(\"PirateNewColumn.csv\")\n",
    "merged_df = pd.merge(combined_df, newCol, on='id', how='inner')"
   ]
  }
 ],
 "metadata": {
  "kernelspec": {
   "display_name": "Python 3 (ipykernel)",
   "language": "python",
   "name": "python3"
  },
  "language_info": {
   "codemirror_mode": {
    "name": "ipython",
    "version": 3
   },
   "file_extension": ".py",
   "mimetype": "text/x-python",
   "name": "python",
   "nbconvert_exporter": "python",
   "pygments_lexer": "ipython3",
   "version": "3.9.13"
  }
 },
 "nbformat": 4,
 "nbformat_minor": 5
}
