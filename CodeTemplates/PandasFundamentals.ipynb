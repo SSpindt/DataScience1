{
 "cells": [
  {
   "cell_type": "code",
   "execution_count": 42,
   "id": "8e2a3488",
   "metadata": {},
   "outputs": [],
   "source": [
    "import pandas as pd\n",
    "import random"
   ]
  },
  {
   "cell_type": "code",
   "execution_count": 23,
   "id": "c4470c1f",
   "metadata": {},
   "outputs": [],
   "source": [
    "# Challenge 1\n",
    "df = pd.read_csv(\"pirates.csv\") # This requires the csv file to be in the same folder as this Jupyter notebook."
   ]
  },
  {
   "cell_type": "code",
   "execution_count": 24,
   "id": "88d9e162",
   "metadata": {},
   "outputs": [
    {
     "name": "stdout",
     "output_type": "stream",
     "text": [
      "<class 'pandas.core.frame.DataFrame'>\n",
      "RangeIndex: 1000 entries, 0 to 999\n",
      "Data columns (total 17 columns):\n",
      " #   Column           Non-Null Count  Dtype  \n",
      "---  ------           --------------  -----  \n",
      " 0   id               1000 non-null   int64  \n",
      " 1   sex              1000 non-null   object \n",
      " 2   age              999 non-null    float64\n",
      " 3   height           1000 non-null   float64\n",
      " 4   weight           1000 non-null   float64\n",
      " 5   headband         999 non-null    object \n",
      " 6   college          1000 non-null   object \n",
      " 7   tattoos          1000 non-null   int64  \n",
      " 8   tchests          1000 non-null   int64  \n",
      " 9   parrots          1000 non-null   object \n",
      " 10  favorite.pirate  999 non-null    object \n",
      " 11  sword.type       1000 non-null   object \n",
      " 12  eyepatch         1000 non-null   int64  \n",
      " 13  sword.time       999 non-null    float64\n",
      " 14  beard.length     1000 non-null   int64  \n",
      " 15  fav.pixar        1000 non-null   object \n",
      " 16  grogg            1000 non-null   int64  \n",
      "dtypes: float64(4), int64(6), object(7)\n",
      "memory usage: 132.9+ KB\n"
     ]
    }
   ],
   "source": [
    "# Challlenge 2 - Part 1 & 2\n",
    "df.info()"
   ]
  },
  {
   "cell_type": "code",
   "execution_count": 25,
   "id": "b3070fda",
   "metadata": {},
   "outputs": [
    {
     "name": "stdout",
     "output_type": "stream",
     "text": [
      "34\n",
      "age\n",
      "1000\n",
      "headband\n",
      "635\n",
      "favorite.pirate\n",
      "137\n",
      "sword.time\n"
     ]
    }
   ],
   "source": [
    "# Challenge 2 - Part 3\n",
    "for column in df.columns:\n",
    "    for row in range(len(df[\"id\"])):\n",
    "        if pd.isna(df.loc[row, column]):\n",
    "            print(row + 1)\n",
    "            print(column)"
   ]
  },
  {
   "cell_type": "code",
   "execution_count": 21,
   "id": "2fa6fb63",
   "metadata": {},
   "outputs": [],
   "source": [
    "# Challenge 3\n",
    "# Technique 1\n",
    "# This drops all rows that contain a null value\n",
    "\n",
    "df.dropna()"
   ]
  },
  {
   "cell_type": "code",
   "execution_count": null,
   "id": "d1e94e3b",
   "metadata": {},
   "outputs": [],
   "source": [
    "# Challenge 3\n",
    "# Technique 2\n",
    "# Drops just the age row that features a null\n",
    "\n",
    "df.drop(33, inplace=True)"
   ]
  },
  {
   "cell_type": "code",
   "execution_count": 27,
   "id": "bcebcfca",
   "metadata": {},
   "outputs": [],
   "source": [
    "# Challenge 3\n",
    "# Technique 3\n",
    "# Reassigns the missing value in age to the mean of ages\n",
    "\n",
    "df.loc[33, \"age\"] = df[\"age\"].mean()"
   ]
  },
  {
   "cell_type": "code",
   "execution_count": 31,
   "id": "e8b73f3d",
   "metadata": {},
   "outputs": [],
   "source": [
    "# Challenge 3\n",
    "# Technique 4\n",
    "# Reassigns the missing value in favorite.pirate to the mode\n",
    "\n",
    "df.loc[634, \"favorite.pirate\"] = df[\"favorite.pirate\"].mode()[0]"
   ]
  },
  {
   "cell_type": "code",
   "execution_count": 49,
   "id": "f7809459",
   "metadata": {},
   "outputs": [],
   "source": [
    "# Challenge 3\n",
    "# Technique 5\n",
    "# Assigns the missing age value to a random integer in the range of the smallest age in the dataset and the largest age in dataset\n",
    "df.loc[33, \"age\"] = random.randint(df[\"age\"].min(), df[\"age\"].max())"
   ]
  },
  {
   "cell_type": "code",
   "execution_count": null,
   "id": "8908bdd3",
   "metadata": {},
   "outputs": [],
   "source": []
  }
 ],
 "metadata": {
  "kernelspec": {
   "display_name": "Python 3 (ipykernel)",
   "language": "python",
   "name": "python3"
  },
  "language_info": {
   "codemirror_mode": {
    "name": "ipython",
    "version": 3
   },
   "file_extension": ".py",
   "mimetype": "text/x-python",
   "name": "python",
   "nbconvert_exporter": "python",
   "pygments_lexer": "ipython3",
   "version": "3.9.13"
  }
 },
 "nbformat": 4,
 "nbformat_minor": 5
}
