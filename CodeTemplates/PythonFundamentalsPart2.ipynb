{
 "cells": [
  {
   "cell_type": "code",
   "execution_count": 5,
   "id": "343a8600",
   "metadata": {},
   "outputs": [],
   "source": [
    "# Challenge 1 - Part 1\n",
    "\n",
    "colOriented = {\n",
    "    \"Name\": [\"Edward Teach\", \"Anne Bonny\", \"John Rackham\", \"Cheung Po Tsai\", \"Grace O'Malley\", \"Mary Read\", \"Sayyida al Hurra\", \"Zheng Yi Sao\", \"Francis Drake\", \"Jean Lafitte\"],\n",
    "    \"Years Active\": [\"1716-1718\",\"1718-1720\", \"1718-1720\", \"1798-1810\", \"1564-1595\", \"1708-1721\", \"1515-1545\", \"1801-1810\", \"1563-1596\", \"1810-1823\"],\n",
    "    \"Sailed\": [\"Caribbean\", \"Caribbean\", \"Caribbean\", \"South China Sea\", \"British Isles\", \"Caribbean\", \"Mediterranean\", \"South China Sea\", \"Caribbean\", \"Gulf of Mexico\"],\n",
    "    \"Alias\": [\"Blackbeard\", \"\", \"Calico Jack\", \"The Kid\", \"Queen of Ireland\", \"Mark\", \"Hakimat Titwan\", \"Ching Shih\", \"Sir Francis Drake\", \"Terror of the Gulf\"]\n",
    "}"
   ]
  },
  {
   "cell_type": "code",
   "execution_count": 6,
   "id": "a2e240ff",
   "metadata": {},
   "outputs": [],
   "source": [
    "# Challenge 1 - Part 2\n",
    "\n",
    "rowOriented = {\n",
    "    \"Edward Teach\": [\"1716-1718\", \"Caribbean\", \"Blackbeard\"],\n",
    "    \"Anne Bonny\": [\"1718-1720\", \"Caribbean\", \"\"],\n",
    "    \"John Rackham\": [\"1718-1720\", \"Caribbean\", \"Calico Jack\"],\n",
    "    \"Cheung Po Tsai\":[\"1798-1810\", \"South China Sea\", \"The Kid\"],\n",
    "    \"Grace O'Malley\":[\"1564-1595\", \"British Isles\", \"Queen of Ireland\"],\n",
    "    \"Mary Read\": [\"1708-1721\", \"Caribbean\", \"Mark\"],\n",
    "    \"Sayyida al Hurra\": [\"1515-1545\", \"Mediterranean\", \"Hakimat Titwan\"],\n",
    "    \"Zheng Yi Sao\": [\"1801-1810\", \"South China Sea\", \"Ching Shih\"],\n",
    "    \"Francis Drake\": [\"1563-1596\", \"Caribbean\", \"Sir Francis Drake\"],\n",
    "    \"Jean Lafitte\": [\"1810 - 1823\", \"Gulf of Mexico\", \"Terror of the Gulf\"]\n",
    "}"
   ]
  },
  {
   "cell_type": "code",
   "execution_count": 7,
   "id": "92fc4f3c",
   "metadata": {},
   "outputs": [
    {
     "name": "stdout",
     "output_type": "stream",
     "text": [
      "4 Pirates active in the 18th century.\n"
     ]
    }
   ],
   "source": [
    "# Challenge 2 - Part 1\n",
    "\n",
    "count = 0\n",
    "for i in range(len(colOriented[\"Sailed\"])):\n",
    "    if colOriented[\"Sailed\"][i] == \"Caribbean\":\n",
    "        yearsSep = colOriented[\"Years Active\"][i].split(\"-\")\n",
    "        for year in yearsSep:\n",
    "            yearInt = int(year)\n",
    "            if yearInt >= 1700 and yearInt < 1800:\n",
    "                count += 1\n",
    "                break\n",
    "print(str(count) + \" Pirates active in the 18th century.\")\n"
   ]
  },
  {
   "cell_type": "code",
   "execution_count": 18,
   "id": "fcdef63f",
   "metadata": {},
   "outputs": [
    {
     "data": {
      "text/plain": [
       "'Francis Drake'"
      ]
     },
     "execution_count": 18,
     "metadata": {},
     "output_type": "execute_result"
    }
   ],
   "source": [
    "# Challenge 2 - Part 2\n",
    "\n",
    "careers = []\n",
    "for i in colOriented[\"Years Active\"]:\n",
    "    rangeYears = i.split(\"-\")\n",
    "    for j in range(2):\n",
    "        rangeYears[j] = int(rangeYears[j])\n",
    "    difference = rangeYears[1] - rangeYears[0]\n",
    "    careers.append(difference)\n",
    "\n",
    "idx = careers.index(max(careers))\n",
    "colOriented[\"Name\"][idx]"
   ]
  },
  {
   "cell_type": "code",
   "execution_count": 19,
   "id": "db1db29c",
   "metadata": {},
   "outputs": [
    {
     "data": {
      "text/plain": [
       "14.7"
      ]
     },
     "execution_count": 19,
     "metadata": {},
     "output_type": "execute_result"
    }
   ],
   "source": [
    "# Challenge 2 - Part 3\n",
    "\n",
    "avg = sum(careers)/len(careers)\n",
    "avg"
   ]
  },
  {
   "cell_type": "code",
   "execution_count": null,
   "id": "e85caa3a",
   "metadata": {},
   "outputs": [],
   "source": [
    "# Challenge 3 \n",
    "\n",
    "pirates = {\n",
    "    \"Name\": [\"Edward Teach\", \"Anne Bonny\", \"John Rackham\", \"Cheung Po Tsai\", \"Grace O'Malley\", \"Mary Read\", \"Sayyida al Hurra\", \"Zheng Yi Sao\", \"Francis Drake\", \"Jean Lafitte\"],\n",
    "    \"Sex\":[\"M\", \"F\", \"M\", \"M\", \"F\", \"F\", \"F\", \"F\", \"M\", \"M\"],\n",
    "    \"Age at Death\":[40, 24, 37, 39, 73, 36, 75, 69, 56, 46],\n",
    "    \"Height\":[6.4, 5.6, 5.6, 5.3, 5.0, 5.1, 0.0, 5.3, 5.5, 6.2],\n",
    "    \"Skull and Crossbones\":[False, True, True, False, False, True, False, False, False, False],\n",
    "    \"Years Active\": [\"1716-1718\",\"1718-1720\", \"1718-1720\", \"1798-1810\", \"1564-1595\", \"1708-1721\", \"1515-1545\", \"1801-1810\", \"1563-1596\", \"1810-1823\"],\n",
    "    \"Sailed\": [\"Caribbean\", \"Caribbean\", \"Caribbean\", \"South China Sea\", \"British Isles\", \"Caribbean\", \"Mediterranean\", \"South China Sea\", \"Caribbean\", \"Gulf of Mexico\"],\n",
    "    \"Alias\": [\"Blackbeard\", \"\", \"Calico Jack\", \"The Kid\", \"Queen of Ireland\", \"Mark\", \"Hakimat Titwan\", \"Ching Shih\", \"Sir Francis Drake\", \"Terror of the Gulf\"]\n",
    "}\n"
   ]
  }
 ],
 "metadata": {
  "kernelspec": {
   "display_name": "Python 3 (ipykernel)",
   "language": "python",
   "name": "python3"
  },
  "language_info": {
   "codemirror_mode": {
    "name": "ipython",
    "version": 3
   },
   "file_extension": ".py",
   "mimetype": "text/x-python",
   "name": "python",
   "nbconvert_exporter": "python",
   "pygments_lexer": "ipython3",
   "version": "3.9.13"
  }
 },
 "nbformat": 4,
 "nbformat_minor": 5
}
